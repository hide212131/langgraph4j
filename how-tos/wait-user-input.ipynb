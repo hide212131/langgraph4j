{
 "cells": [
  {
   "cell_type": "code",
   "execution_count": 1,
   "metadata": {},
   "outputs": [],
   "source": [
    "String userHomeDir = System.getProperty(\"user.home\");\n",
    "String localRespoUrl = \"file://\" + userHomeDir + \"/.m2/repository/\";\n",
    "String langchain4jVersion = \"0.33.0\""
   ]
  },
  {
   "cell_type": "code",
   "execution_count": null,
   "metadata": {},
   "outputs": [],
   "source": [
    "%dependency /add-repo local \\{localRespoUrl} release|never snapshot|always\n",
    "%dependency /list-repos"
   ]
  },
  {
   "cell_type": "code",
   "execution_count": null,
   "metadata": {},
   "outputs": [],
   "source": [
    "%dependency /add org.bsc.langgraph4j:langgraph4j-core-jdk8:1.0-SNAPSHOT\n",
    "%dependency /add dev.langchain4j:langchain4j:\\{langchain4jVersion}\n",
    "%dependency /add dev.langchain4j:langchain4j-open-ai:\\{langchain4jVersion}\n",
    "%dependency /list-dependencies\n",
    "%dependency /resolve"
   ]
  },
  {
   "cell_type": "code",
   "execution_count": 4,
   "metadata": {},
   "outputs": [
    {
     "name": "stderr",
     "output_type": "stream",
     "text": [
      "SLF4J: No SLF4J providers were found.\n",
      "SLF4J: Defaulting to no-operation (NOP) logger implementation\n",
      "SLF4J: See https://www.slf4j.org/codes.html#noProviders for further details.\n"
     ]
    },
    {
     "data": {
      "text/plain": [
       "---\n",
       "title: Graph Diagram\n",
       "---\n",
       "flowchart TD\n",
       "\tstart((start))\n",
       "\tstop((stop))\n",
       "\tstep_1(\"step_1\")\n",
       "\thuman_feedback(\"human_feedback\")\n",
       "\tstep_3(\"step_3\")\n",
       "\tstart:::start --> step_1:::step_1\n",
       "\tstep_1:::step_1 --> human_feedback:::human_feedback\n",
       "\thuman_feedback:::human_feedback --> step_3:::step_3\n",
       "\tstep_3:::step_3 --> __END__:::__END__\n"
      ]
     },
     "execution_count": 4,
     "metadata": {},
     "output_type": "execute_result"
    }
   ],
   "source": [
    "import org.bsc.langgraph4j.*;\n",
    "import org.bsc.langgraph4j.state.AgentState;\n",
    "import org.bsc.langgraph4j.state.Channel;\n",
    "import org.bsc.langgraph4j.state.AppenderChannel;\n",
    "import dev.langchain4j.data.message.AiMessage;\n",
    "import dev.langchain4j.data.message.ChatMessage;\n",
    "import org.bsc.langgraph4j.action.AsyncNodeAction;\n",
    "import static org.bsc.langgraph4j.action.AsyncNodeAction.node_async;\n",
    "import static org.bsc.langgraph4j.utils.CollectionsUtils.mapOf;\n",
    "import org.bsc.langgraph4j.checkpoint.MemorySaver;\n",
    "import org.bsc.langgraph4j.CompileConfig;\n",
    "import static org.bsc.langgraph4j.StateGraph.END;\n",
    "import static org.bsc.langgraph4j.StateGraph.START;\n",
    "\n",
    "public class State extends AgentState {\n",
    "\n",
    "    static Map<String, Channel<?>> SCHEMA = Map.of(\n",
    "            \"messages\", AppenderChannel.<AiMessage>of(ArrayList::new)\n",
    "    );\n",
    "\n",
    "    public State(Map<String, Object> initData) {\n",
    "        super( initData  );\n",
    "    }\n",
    "\n",
    "    Optional<String> input() { return value(\"input\"); } \n",
    "    Optional<String> userFeedback() { return value(\"user_feedback\"); } \n",
    "\n",
    "}\n",
    "\n",
    "AsyncNodeAction<State> step1 = node_async(state -> {\n",
    "    System.out.println( \"---Step 1---\" );\n",
    "    return mapOf();\n",
    "});\n",
    "\n",
    "AsyncNodeAction<State> humanFeedback = node_async(state -> {\n",
    "    System.out.println( \"---human_feedback---\" );\n",
    "    return mapOf();\n",
    "});\n",
    "\n",
    "AsyncNodeAction<State> step3 = node_async(state -> {\n",
    "    System.out.println( \"---Step 3---\" );\n",
    "    return mapOf();\n",
    "});\n",
    "\n",
    "var builder = new StateGraph<>(State.SCHEMA, State::new);\n",
    "builder.addNode(\"step_1\", step1);\n",
    "builder.addNode(\"human_feedback\", humanFeedback);\n",
    "builder.addNode(\"step_3\", step3);\n",
    "builder.addEdge(START, \"step_1\");\n",
    "builder.addEdge(\"step_1\", \"human_feedback\");\n",
    "builder.addEdge(\"human_feedback\", \"step_3\");\n",
    "builder.addEdge(\"step_3\", END);\n",
    "\n",
    "// Set up memory\n",
    "var saver = new MemorySaver();\n",
    "\n",
    "// Add\n",
    "var compileConfig = CompileConfig.builder().checkpointSaver(saver).interruptBefore(\"human_feedback\").build();\n",
    "var graph = builder.compile(compileConfig);\n",
    "\n",
    "// View as Mermaid with ```mermaid ... ```\n",
    "graph.getGraph(GraphRepresentation.Type.MERMAID).getContent();"
   ]
  },
  {
   "cell_type": "code",
   "execution_count": 5,
   "metadata": {},
   "outputs": [
    {
     "name": "stdout",
     "output_type": "stream",
     "text": [
      "---Step 1---\n",
      "NodeOutput(node=__START__, state={input=hello world, messages=[]})\n",
      "NodeOutput(node=step_1, state={input=hello world, messages=[]})\n"
     ]
    }
   ],
   "source": [
    "// Input\n",
    "var initialInput = mapOf(\"input\", (Object) \"hello world\");\n",
    "\n",
    "// Thread\n",
    "var invokeConfig = RunnableConfig.builder().threadId(\"Thread1\").build();\n",
    "\n",
    "// Run the graph until the first interruption\n",
    "for (var event : graph.stream(initialInput, invokeConfig)) {\n",
    "    System.out.println(event);\n",
    "}\n"
   ]
  },
  {
   "cell_type": "code",
   "execution_count": 10,
   "metadata": {},
   "outputs": [
    {
     "name": "stdout",
     "output_type": "stream",
     "text": [
      "Tell me how you want to update the state: go to step 3!\n",
      "--State after update--\n",
      "StateSnapshot(state={user_feedback=go to step 3!, input=hello world, messages=[]}, config=RunnableConfig(threadId=Thread1, checkPointId=3c4deb6e-f6d5-4df9-bfd6-8ece476c5645, nextNode=human_feedback))\n",
      "getNext with invokeConfig: human_feedback\n",
      "getNext with updateConfig: human_feedback\n"
     ]
    }
   ],
   "source": [
    "// Get user input\n",
    "//String userInput = new Scanner(System.in).nextLine();\n",
    "String userInput = \"go to step 3!\";\n",
    "System.out.println(\"Tell me how you want to update the state: \" + userInput);\n",
    "\n",
    "// We now update the state as if we are the human_feedback node\n",
    "var updateConfig = graph.updateState(invokeConfig, mapOf(\"user_feedback\", userInput), \"human_feedback\");\n",
    "\n",
    "// We can check the state\n",
    "System.out.println(\"--State after update--\");\n",
    "System.out.println(graph.getState(invokeConfig));\n",
    "\n",
    "// We can check the next node, showing that it is node 3 (which follows human_feedback)\n",
    "System.out.println(\"getNext with invokeConfig: \" + graph.getState(invokeConfig).getNext());\n",
    "System.out.println(\"getNext with updateConfig: \" + graph.getState(updateConfig).getNext());"
   ]
  },
  {
   "cell_type": "code",
   "execution_count": 7,
   "metadata": {},
   "outputs": [],
   "source": [
    "// Continue the graph execution\n",
    "for (var event : graph.stream(null, updateConfig)) {\n",
    "    System.out.println(event);\n",
    "}"
   ]
  },
  {
   "cell_type": "code",
   "execution_count": 8,
   "metadata": {},
   "outputs": [
    {
     "data": {
      "text/plain": [
       "{user_feedback=go to step 3!, input=hello world, messages=[]}"
      ]
     },
     "execution_count": 8,
     "metadata": {},
     "output_type": "execute_result"
    }
   ],
   "source": [
    "graph.getState(updateConfig).getState();"
   ]
  }
 ],
 "metadata": {
  "kernelspec": {
   "display_name": "Java (rjk 2.1.0)",
   "language": "java",
   "name": "rapaio-jupyter-kernel"
  },
  "language_info": {
   "codemirror_mode": "java",
   "file_extension": ".jshell",
   "mimetype": "text/x-java-source",
   "name": "java",
   "nbconvert_exporter": "script",
   "pygments_lexer": "java",
   "version": "22.0.2+9"
  }
 },
 "nbformat": 4,
 "nbformat_minor": 2
}
